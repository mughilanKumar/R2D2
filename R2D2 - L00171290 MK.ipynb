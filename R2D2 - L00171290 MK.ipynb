{
 "cells": [
  {
   "cell_type": "code",
   "execution_count": null,
   "id": "71ac9e61",
   "metadata": {},
   "outputs": [],
   "source": [
    "# Importing Libraries\n",
    "\n",
    "import nest_asyncio\n",
    "nest_asyncio.apply()\n",
    "from spherov2 import scanner\n",
    "from spherov2.sphero_edu import SpheroEduAPI\n",
    "\n",
    "#Scanner function - mentioning toy_name and time out parameter\n",
    "toy = scanner.find_toy(toy_name = 'D2-030B', timeout = 60)"
   ]
  },
  {
   "cell_type": "code",
   "execution_count": null,
   "id": "b18c7bad",
   "metadata": {},
   "outputs": [],
   "source": []
  },
  {
   "cell_type": "code",
   "execution_count": null,
   "id": "3923c914",
   "metadata": {},
   "outputs": [],
   "source": [
    "# Testing the connection\n",
    "\n",
    "with SpheroEduAPI(toy) as droid:\n",
    "    droid.roll(0,100,0)"
   ]
  },
  {
   "cell_type": "markdown",
   "id": "a7cfb137",
   "metadata": {},
   "source": [
    "# 1. Lists and For loops (5)"
   ]
  },
  {
   "cell_type": "raw",
   "id": "fffcb2b7",
   "metadata": {},
   "source": [
    "Python’s for loop allows us to execute a series of roll commands based on a list of triples in the form of (heading, speed, duration)."
   ]
  },
  {
   "cell_type": "raw",
   "id": "d562cf5e",
   "metadata": {},
   "source": [
    "•\tImplement a function called drive_with_commands which will ask the R2-D2 to execute a list of roll commands."
   ]
  },
  {
   "cell_type": "code",
   "execution_count": null,
   "id": "5937cbdc",
   "metadata": {},
   "outputs": [],
   "source": [
    "# drive with function\n",
    "\n",
    "def drive_with_commands(D,ROLL_COMMANDS):\n",
    "    for i in ROLL_COMMANDS:\n",
    "        D.roll(i[0],i[1],i[2])"
   ]
  },
  {
   "cell_type": "code",
   "execution_count": null,
   "id": "4b0b9155",
   "metadata": {},
   "outputs": [],
   "source": [
    "\n",
    "with SpheroEduAPI(toy) as droid:\n",
    "    \n",
    "    # Square Trajectory\n",
    "    roll_commands = [(0, 100, 1), (90, 100, 1), (180, 100, 1), (270, 100, 1)]\n",
    "    \n",
    "    # calling drive with function\n",
    "    drive_with_commands(droid, roll_commands)"
   ]
  },
  {
   "cell_type": "code",
   "execution_count": null,
   "id": "e4f69698",
   "metadata": {},
   "outputs": [],
   "source": [
    "with SpheroEduAPI(toy) as droid:\n",
    "    \n",
    "    # Pentagon Trajectory\n",
    "    roll_commands = [(0, 100, 1), (72, 100, 1), (144, 100, 1), (216, 100, 1), (288, 100, 1)]\n",
    "    \n",
    "    # calling drive with function\n",
    "    drive_with_commands(droid, roll_commands)"
   ]
  },
  {
   "cell_type": "raw",
   "id": "07062e1f",
   "metadata": {},
   "source": [
    "•\tWrite a one-line function sort_lambda(roll_commands) that uses a lambda function to first sort the roll_commands by duration, and then by speed, both in increasing order, and in-place."
   ]
  },
  {
   "cell_type": "code",
   "execution_count": null,
   "id": "d7887447",
   "metadata": {},
   "outputs": [],
   "source": [
    "# Sort_lambda Function\n",
    "\n",
    "def sort_lambda(ROLL_CMDS):\n",
    "    ROLL_CMDS.sort(key=lambda x: (x[2],x[1]), reverse=False)"
   ]
  },
  {
   "cell_type": "code",
   "execution_count": null,
   "id": "b536de35",
   "metadata": {},
   "outputs": [],
   "source": [
    "# Roll command in random order\n",
    "roll_commands = [(0, 100, 1), (72, 110, 3), (144, 100, 3), (216, 120, 4), (288, 110, 2),(60, 160, 1),(140, 120, 4),(30, 110, 2)]\n",
    "\n",
    "with SpheroEduAPI(toy) as droid:\n",
    "    # Sorting the roll_command\n",
    "    sort_lambda(roll_commands)\n",
    "    \n",
    "    #Drive with function\n",
    "    drive_with_commands(droid,roll_commands)"
   ]
  },
  {
   "cell_type": "markdown",
   "id": "916dbbca",
   "metadata": {},
   "source": [
    "# 2. Functions (Drive Regular Polygon) (5)"
   ]
  },
  {
   "cell_type": "raw",
   "id": "59a5a4f7",
   "metadata": {},
   "source": [
    "Instead of manually specifying the commands to have the robot drive in a square or a pentagon, let’s write a function that will let it drive in the shape of any regular polygon. The figure shown below describes the angle relationship of a polygon and the equation to compute the interior angle."
   ]
  },
  {
   "cell_type": "raw",
   "id": "97225b1f",
   "metadata": {},
   "source": [
    "•\tComplete the function drive_polygon which will let the R2D2 follow a trajectory of a polygon with n sides"
   ]
  },
  {
   "cell_type": "code",
   "execution_count": null,
   "id": "ed1e3caa",
   "metadata": {},
   "outputs": [],
   "source": [
    "# Drive polygon function\n",
    "\n",
    "def drive_polygon (droid,n,Speed,Time):\n",
    "    # internal angle \n",
    "    ia = ((n-2)*(180/n))\n",
    "    \n",
    "    for i in range(n+1):\n",
    "        if n > i: # to drive the drive for the given no.of sides\n",
    "            droid.roll(int((i)*(180-ia)),Speed,Time)\n",
    "            \n",
    "        else: # to get back to start state\n",
    "            droid.roll(int((i)*(180-ia)),0,0)"
   ]
  },
  {
   "cell_type": "code",
   "execution_count": null,
   "id": "13703f71",
   "metadata": {},
   "outputs": [],
   "source": [
    "# Drive polygon\n",
    "\n",
    "N = int(input('No.of sides '))\n",
    "\n",
    "with SpheroEduAPI(toy) as droid:\n",
    "    drive_polygon(droid,N,100,1)"
   ]
  },
  {
   "cell_type": "markdown",
   "id": "cdff90a8",
   "metadata": {},
   "source": [
    "# 3. Functions (Drawing Regular Shapes)  (5)"
   ]
  },
  {
   "cell_type": "raw",
   "id": "20926375",
   "metadata": {},
   "source": [
    "Write a function that will let it drive any two shapes, such as circle, triangle, or square. \n",
    "Add a new functions drive_shape (change shape in function name according to the selected shape) which will let the R2D2 follow the trajectory of the shape with n sides.\n"
   ]
  },
  {
   "cell_type": "code",
   "execution_count": null,
   "id": "21611c28",
   "metadata": {},
   "outputs": [],
   "source": [
    "# Driving Square function\n",
    "\n",
    "def drive_square(droid,Speed,Time):\n",
    "    drive_polygon(droid,4,Speed,Time)\n",
    "\n",
    "# Driving triangle function\n",
    "\n",
    "def drive_triangle(droid,Speed,Time):\n",
    "    drive_polygon(droid,3,Speed,Time)"
   ]
  },
  {
   "cell_type": "code",
   "execution_count": null,
   "id": "2c0642e3",
   "metadata": {},
   "outputs": [],
   "source": [
    "# Calling drive triangle function\n",
    "\n",
    "with SpheroEduAPI(toy) as droid:\n",
    "    drive_triangle(droid,100,2)\n",
    "    "
   ]
  },
  {
   "cell_type": "code",
   "execution_count": null,
   "id": "a646ecb3",
   "metadata": {},
   "outputs": [],
   "source": [
    "# Calling drive Square function\n",
    "\n",
    "with SpheroEduAPI(toy) as droid:\n",
    "    drive_square(droid,100,2)"
   ]
  },
  {
   "cell_type": "markdown",
   "id": "6e3262ea",
   "metadata": {},
   "source": [
    "# 4. Dictionaries (RGB LED)  (5)"
   ]
  },
  {
   "cell_type": "raw",
   "id": "e629b495",
   "metadata": {},
   "source": [
    "Python dictionaries are hash tables that let us store key-value pairs. Let’s use a dictionary to map color names (Strings) to their corresponding RGB values. We’ll store the RGB values as a Color object that indicates the intensity of each of these colors (ranging from 0 to 255).\n",
    "\n",
    "•\tWe provide such a dictionary in the skeleton code. Your task is to implement the function set_lights(color, which_light='both') which uses the API set_front_led() and set_back_led() to change the lights of the R2D2 according to the input color.\n",
    "•\tIt should be noted that the color argument could either be the color name or the hexadecimal color which means you have to write a helper function hex2rgb() to convert HEX to RGB.\n"
   ]
  },
  {
   "cell_type": "code",
   "execution_count": null,
   "id": "3c1b57b8",
   "metadata": {},
   "outputs": [],
   "source": [
    "# Set_light Function\n",
    "\n",
    "def set_lights(droid,color,light):\n",
    "    # importing libarary needed for function\n",
    "    from spherov2.types import Color\n",
    "    from colormap import hex2rgb\n",
    "    \n",
    "    # Color name to RGB Dictonary\n",
    "    color_names_to_rgb = {\n",
    "        'red': Color(255, 0, 0),\n",
    "        'orange': Color(255, 165, 0),\n",
    "        'yellow': Color(255, 255, 0),\n",
    "        'green': Color(0, 128, 0),\n",
    "        'blue': Color(0, 0, 255),\n",
    "        'indigo': Color(75, 0, 130),\n",
    "        'violet': Color(238, 130, 238),\n",
    "        'purple': Color(128, 0, 128)\n",
    "    } \n",
    "    \n",
    "    # Col function to convert Color name/ Hex value to RGB\n",
    "    def col (color):\n",
    "        \n",
    "        color = color.lower()\n",
    "        \n",
    "        if '#' in color: # if the given input is a Hex Value\n",
    "            color = Color(hex2rgb(color)[0],hex2rgb(color)[1],hex2rgb(color)[2])\n",
    "            \n",
    "        else: # if the given input is a color_name\n",
    "            color = color_names_to_rgb[color]\n",
    "        return color\n",
    "    \n",
    "    # Logic for selecting the light\n",
    "    \n",
    "    if light.lower() == 'front': # for front led\n",
    "        droid.set_front_led(col(color))\n",
    "        \n",
    "    elif light.lower() == 'back': # for back led\n",
    "        droid.set_back_led(col(color))\n",
    "        \n",
    "    elif light.lower() == 'both': # for both led\n",
    "        droid.set_main_led(col(color))\n",
    "        "
   ]
  },
  {
   "cell_type": "code",
   "execution_count": null,
   "id": "62cb0b31",
   "metadata": {},
   "outputs": [],
   "source": [
    "import time\n",
    "\n",
    "colr = input('color ')\n",
    "led = str(input('front/back/both led ? '))\n",
    "\n",
    "with SpheroEduAPI(toy) as droid:\n",
    "    set_lights(droid,colr,led)\n",
    "    time.sleep(5)"
   ]
  },
  {
   "cell_type": "markdown",
   "id": "af2e1284",
   "metadata": {},
   "source": [
    "# 5. Driving with the Keyboard Arrow Keys (10)"
   ]
  },
  {
   "cell_type": "raw",
   "id": "4dad7720",
   "metadata": {},
   "source": [
    "Let’s design a video game style controller for the robot, where we can use the arrow keys to change its speed (by pressing up or down) and its orientation (by pressing left or right)\n",
    "•\tWe give you a function for reading in a keystroke from the keyboard called getkey() and your task is to complete the drive_with_keyboard() function which continuously reads in the keyboard input and uses it to drive the robot. (Hint: Use set_heading() and set_speed())\n",
    "•\tPress the up arrow key to increase the speed by speed_delta, press the down arrow key to decrease the speed by speed_delta; press the left arrow key to decrease the heading by heading_delta, and press the right arrow key to increase the heading by heading_delta. Press the esc button to exit the keyboard driving mode.\n",
    "•\tYou need to add code to this function for Part 3."
   ]
  },
  {
   "cell_type": "code",
   "execution_count": null,
   "id": "b400b2a3",
   "metadata": {},
   "outputs": [],
   "source": [
    "# Drive with arrow key function\n",
    "\n",
    "def drive_with_keyboard(droid, speed_delta: int = 10, heading_delta: int = 30, dome_delta: int = 20):\n",
    "    speed = speed_delta\n",
    "    angle = heading_delta\n",
    "    print('Press ESC key to exit...')\n",
    "    \n",
    "    # Importing Keyboard library\n",
    "    import keyboard\n",
    "    \n",
    "    while True:\n",
    "        # Read_Key() function is used read the key pressed\n",
    "        key = keyboard.read_key()\n",
    "        \n",
    "        if key == 'esc': # to exit\n",
    "            return\n",
    "        \n",
    "        elif key == 'up': # to move forward and increase increase until the up key is pressed\n",
    "            droid.set_speed(speed)\n",
    "            speed = speed + speed_delta\n",
    "            \n",
    "        elif key == 'down': # to decrease the speed and stop\n",
    "            if speed > 20:\n",
    "                droid.set_speed(speed)\n",
    "                speed = speed - speed_delta\n",
    "            elif speed == 20 :\n",
    "                droid.set_speed(0)  \n",
    "                \n",
    "        elif key == 'left': # to turn left\n",
    "            angle = angle - heading_delta\n",
    "            droid.set_heading(angle)\n",
    "            \n",
    "        elif key == 'right': # to turn right\n",
    "            angle = angle + heading_delta\n",
    "            droid.set_heading(angle)"
   ]
  },
  {
   "cell_type": "code",
   "execution_count": null,
   "id": "2e7a30dd",
   "metadata": {},
   "outputs": [],
   "source": [
    "# drive with keyboard = Try yourself\n",
    "\n",
    "with SpheroEduAPI(toy) as droid:\n",
    "    drive_with_keyboard(droid)"
   ]
  },
  {
   "cell_type": "markdown",
   "id": "b7f4dbca",
   "metadata": {},
   "source": [
    "# 6. Sending a Message via Morse Code (5)"
   ]
  },
  {
   "cell_type": "raw",
   "id": "7366186e",
   "metadata": {},
   "source": [
    "In Star Wars, R2-D2 delivers a message from Princess Leia to Obi-Wan Kenobi. Our robots can only play pre-programmed sounds, so we will use the robot’s lights to blink out the message “Help me, Obi-Wan Kenobi. You’re my only hope.” in Morse Code. See a demo below:\n",
    " \n",
    "Here we will use the Python concept of a generator. Generators behave similar to iterators like lists, so they can be used in Python’s for loops. They have the added nice property of creating the next item on-demand, which means that they can often be more efficient than the equivalent operation of generating a list and returning its iterator. That property is nice in this example, since the message that Leia sent to Obi-Wan is actually quite a bit longer than everyone remembers:\n",
    "\n",
    "“General Kenobi. Years ago, you served my father in the Clone Wars. Now he begs you to help him in his struggle against the Empire. I regret that I am unable to present my father's request to you in person, but my ship has fallen under attack and I'm afraid my mission to bring you to Alderaan has failed. I have placed information vital to the survival of the Rebellion into the memory systems of this R2 unit. My father will know how to retrieve it. You must see this droid safely delivered to him on Alderaan. This is our most desperate hour. Help me, Obi-Wan Kenobi. You're my only hope.”\n"
   ]
  },
  {
   "cell_type": "code",
   "execution_count": null,
   "id": "153f7a01",
   "metadata": {},
   "outputs": [],
   "source": [
    "def play_message(droid, message, dot_duration, dash_duration, time_between_blips, time_between_letters):\n",
    "    \n",
    "    #importing time library \n",
    "    import time\n",
    "    \n",
    "    # Morse Code Dict\n",
    "    morse_code_dict = {\n",
    "    'A': '.-', 'B': '-...', 'C': '-.-.', 'D': '-..', 'E': '.', 'F': '..-.', 'G': '--.', 'H': '....', 'I': '..',\n",
    "    'J': '.---', 'K': '-.-', 'L': '.-..', 'M': '--', 'N': '-.', 'O': '---', 'P': '.--.', 'Q': '--.-', 'R': '.-.',\n",
    "    'S': '...', 'T': '-', 'U': '..-', 'V': '...-', 'W': '.--', 'X': '-..-', 'Y': '-.--', 'Z': '--..', '1': '.----',\n",
    "    '2': '..---', '3': '...--', '4': '....-', '5': '.....', '6': '-....', '7': '--...', '8': '---..', '9': '----.',\n",
    "    '0': '-----'}\n",
    "    \n",
    "    # Morse Encoder function to convert string to morse code\n",
    "    def morse_encoder(message):\n",
    "        for i in message.upper():\n",
    "            if i.isalpha():\n",
    "                mc = morse_code_dict[i]\n",
    "                yield(mc)\n",
    "    \n",
    "    # Blink function helps switch on/off holo projector for given duration \n",
    "    def blink(droid, duration):\n",
    "        droid.set_holo_projector_led(255)\n",
    "        time.sleep(duration)\n",
    "    \n",
    "    # to turn the dome since the holo projector move to center\n",
    "    droid.set_dome_position(22.5)\n",
    "\n",
    "    # logic to transmit morse code using light\n",
    "    for i in morse_encoder(message):\n",
    "        \n",
    "        # to give time between 2 letters\n",
    "        time.sleep(time_between_letters)\n",
    "        \n",
    "        for j in i:\n",
    "            \n",
    "            if j == '.': # if its a dot \n",
    "                blink(droid,dot_duration)\n",
    "                droid.set_holo_projector_led(0)\n",
    "                # to give time between the symbols in the letter\n",
    "                time.sleep(time_between_blips)\n",
    "                \n",
    "            elif j == '-': # if its a dash\n",
    "                blink(droid,dash_duration)\n",
    "                droid.set_holo_projector_led(0)\n",
    "                # to give time between the symbols in the letter\n",
    "                time.sleep(time_between_blips)"
   ]
  },
  {
   "cell_type": "code",
   "execution_count": null,
   "id": "91f1ed6c",
   "metadata": {},
   "outputs": [],
   "source": [
    "# given message\n",
    "\n",
    "message = \"Help me, Obi-Wan Kenobi. You’re my only hope\""
   ]
  },
  {
   "cell_type": "code",
   "execution_count": null,
   "id": "972d381d",
   "metadata": {},
   "outputs": [],
   "source": [
    "# transmitting the meesage in morse code using holo projector\n",
    "\n",
    "with SpheroEduAPI(toy) as droid:\n",
    "    play_message(droid,message ,0.1,0.3,0.1,0.5)"
   ]
  },
  {
   "cell_type": "code",
   "execution_count": null,
   "id": "7db7dba1",
   "metadata": {},
   "outputs": [],
   "source": []
  }
 ],
 "metadata": {
  "kernelspec": {
   "display_name": "Python 3 (ipykernel)",
   "language": "python",
   "name": "python3"
  },
  "language_info": {
   "codemirror_mode": {
    "name": "ipython",
    "version": 3
   },
   "file_extension": ".py",
   "mimetype": "text/x-python",
   "name": "python",
   "nbconvert_exporter": "python",
   "pygments_lexer": "ipython3",
   "version": "3.9.12"
  }
 },
 "nbformat": 4,
 "nbformat_minor": 5
}
